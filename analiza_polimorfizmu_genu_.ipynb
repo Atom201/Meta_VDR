{
  "nbformat": 4,
  "nbformat_minor": 0,
  "metadata": {
    "colab": {
      "provenance": []
    },
    "kernelspec": {
      "name": "ir",
      "display_name": "R"
    },
    "language_info": {
      "name": "R"
    }
  },
  "cells": [
    {
      "cell_type": "markdown",
      "source": [
        "Analiza plimorfizmu genu Vdr wariantów foc1 i bsm1\n",
        "Dane: 2 grypy, jedna z nowotowrem nerki druga zdrowa,\n",
        "analiza czestości wystepowania polimofrizmów.\n",
        "\n",
        "Gen VDR (ang. Vitamin D Receptor) koduje białko zwane receptorem witaminy D (VDR). Receptor witaminy D jest białkiem, które odgrywa kluczową rolę w regulacji odpowiedzi komórkowej na witaminę D.\n",
        "\n",
        "Wskazuje się związek polimorfizmów genu VDR z ryzykiem wystąpienia raka sutka (Bsm1, Fok1), raka prostaty (Fok1) i czerniaka złośliwego (Fok1). Największe znaczenie w rokowaniu obserwuje się u pacjentów z rakiem prostaty (Fok1), rakiem piersi (Bsm1, Taq1), czerniakiem złośliwym o (Bsm1) i rakiem nerkowokomórkowym (Taq1). Istotnym jest rozpoznanie, opisanie i skorelowanie występowania genetycznego polimorfizmów genu VDR, które pozwolą na wczesne rozpoznanie bądź zapobieganie wystąpienia skorelowanych z nimi jednostek chorobowych."
      ],
      "metadata": {
        "id": "sHMP23Z6Xr1T"
      }
    },
    {
      "cell_type": "code",
      "source": [
        "install.packages('readxl')\n",
        "library(readxl)\n"
      ],
      "metadata": {
        "colab": {
          "base_uri": "https://localhost:8080/"
        },
        "id": "cjsH5E8AXu_M",
        "outputId": "890ef32b-4636-4f8c-b6bd-993667762e77"
      },
      "execution_count": null,
      "outputs": [
        {
          "output_type": "stream",
          "name": "stderr",
          "text": [
            "Installing package into ‘/usr/local/lib/R/site-library’\n",
            "(as ‘lib’ is unspecified)\n",
            "\n"
          ]
        }
      ]
    },
    {
      "cell_type": "code",
      "source": [
        "dane <- read_excel(\"/dane_projektt.xls\")\n"
      ],
      "metadata": {
        "id": "1uM_3l5oYIaL"
      },
      "execution_count": null,
      "outputs": []
    },
    {
      "cell_type": "code",
      "source": [
        "dim(dane)"
      ],
      "metadata": {
        "colab": {
          "base_uri": "https://localhost:8080/",
          "height": 34
        },
        "id": "XOfhkiEmYvUh",
        "outputId": "6c632f8a-6eea-4dbd-b8f3-e010169774eb"
      },
      "execution_count": null,
      "outputs": [
        {
          "output_type": "display_data",
          "data": {
            "text/html": [
              "<style>\n",
              ".list-inline {list-style: none; margin:0; padding: 0}\n",
              ".list-inline>li {display: inline-block}\n",
              ".list-inline>li:not(:last-child)::after {content: \"\\00b7\"; padding: 0 .5ex}\n",
              "</style>\n",
              "<ol class=list-inline><li>646</li><li>3</li></ol>\n"
            ],
            "text/markdown": "1. 646\n2. 3\n\n\n",
            "text/latex": "\\begin{enumerate*}\n\\item 646\n\\item 3\n\\end{enumerate*}\n",
            "text/plain": [
              "[1] 646   3"
            ]
          },
          "metadata": {}
        }
      ]
    },
    {
      "cell_type": "markdown",
      "source": [
        "This second cell will be in a separate sandboxed iframe.\n"
      ],
      "metadata": {
        "id": "VlVxK8LrPsZC"
      }
    },
    {
      "cell_type": "code",
      "source": [
        "colnames(dane) <- c('Grupa','VDR','BSM')"
      ],
      "metadata": {
        "id": "VEIQUtpTYve8"
      },
      "execution_count": null,
      "outputs": []
    },
    {
      "cell_type": "code",
      "source": [
        "table(dane$Grupa)\n",
        "table(dane$VDR)\n",
        "table(dane$BSM)"
      ],
      "metadata": {
        "colab": {
          "base_uri": "https://localhost:8080/",
          "height": 170
        },
        "id": "NZ0_VgcSYvhg",
        "outputId": "52059422-4bf3-484c-d64e-d820c8c4cc1c"
      },
      "execution_count": null,
      "outputs": [
        {
          "output_type": "display_data",
          "data": {
            "text/plain": [
              "\n",
              " Cancer Control \n",
              "    276     369 "
            ]
          },
          "metadata": {}
        },
        {
          "output_type": "display_data",
          "data": {
            "text/plain": [
              "\n",
              "  1  AA  AG  GG \n",
              "  1 157 264 224 "
            ]
          },
          "metadata": {}
        },
        {
          "output_type": "display_data",
          "data": {
            "text/plain": [
              "\n",
              " CC  CT  TC  TT \n",
              "202 142 154  84 "
            ]
          },
          "metadata": {}
        }
      ]
    },
    {
      "cell_type": "code",
      "source": [
        "dane<-dane[dane$Grupa != '',]\n",
        "dim(dane)"
      ],
      "metadata": {
        "colab": {
          "base_uri": "https://localhost:8080/",
          "height": 34
        },
        "id": "xxNafDypYvko",
        "outputId": "b874a801-7826-4565-956f-968715fc86b4"
      },
      "execution_count": null,
      "outputs": [
        {
          "output_type": "display_data",
          "data": {
            "text/html": [
              "<style>\n",
              ".list-inline {list-style: none; margin:0; padding: 0}\n",
              ".list-inline>li {display: inline-block}\n",
              ".list-inline>li:not(:last-child)::after {content: \"\\00b7\"; padding: 0 .5ex}\n",
              "</style>\n",
              "<ol class=list-inline><li>646</li><li>3</li></ol>\n"
            ],
            "text/markdown": "1. 646\n2. 3\n\n\n",
            "text/latex": "\\begin{enumerate*}\n\\item 646\n\\item 3\n\\end{enumerate*}\n",
            "text/plain": [
              "[1] 646   3"
            ]
          },
          "metadata": {}
        }
      ]
    },
    {
      "cell_type": "code",
      "source": [
        "table(dane$VDR)\n",
        "table(dane$BSM)"
      ],
      "metadata": {
        "colab": {
          "base_uri": "https://localhost:8080/",
          "height": 119
        },
        "id": "yB56RMhPY24B",
        "outputId": "989ca510-2733-414c-807e-a388d36c3fb0"
      },
      "execution_count": null,
      "outputs": [
        {
          "output_type": "display_data",
          "data": {
            "text/plain": [
              "\n",
              " AA  AG  GG \n",
              "157 264 224 "
            ]
          },
          "metadata": {}
        },
        {
          "output_type": "display_data",
          "data": {
            "text/plain": [
              "\n",
              " CC  CT  TC  TT \n",
              "202 142 154  84 "
            ]
          },
          "metadata": {}
        }
      ]
    },
    {
      "cell_type": "code",
      "source": [
        "BSMdata<-dane[dane$BSM != '',]\n",
        "table(BSMdata$BSM)"
      ],
      "metadata": {
        "colab": {
          "base_uri": "https://localhost:8080/",
          "height": 68
        },
        "id": "P3BFUk8tY26w",
        "outputId": "cf312202-c527-4ee4-c72f-196578d301e5"
      },
      "execution_count": null,
      "outputs": [
        {
          "output_type": "display_data",
          "data": {
            "text/plain": [
              "\n",
              " CC  CT  TC  TT \n",
              "202 142 154  84 "
            ]
          },
          "metadata": {}
        }
      ]
    },
    {
      "cell_type": "code",
      "source": [
        "dim(VDRcase<-dane[dane$Grupa == 'Cancer',])\n",
        "dim(VDRcontrol<-dane[dane$Grupa == 'Control',])\n",
        "dim(BSMcase<-BSMdata[BSMdata$Grupa == 'Cancer',])\n",
        "dim(BSMcontrol<-BSMdata[BSMdata$Grupa == 'Control',])"
      ],
      "metadata": {
        "colab": {
          "base_uri": "https://localhost:8080/",
          "height": 85
        },
        "id": "RJ7_PbXcY29P",
        "outputId": "93bb8be3-6736-4ec3-d83e-4fdad094f227"
      },
      "execution_count": null,
      "outputs": [
        {
          "output_type": "display_data",
          "data": {
            "text/html": [
              "<style>\n",
              ".list-inline {list-style: none; margin:0; padding: 0}\n",
              ".list-inline>li {display: inline-block}\n",
              ".list-inline>li:not(:last-child)::after {content: \"\\00b7\"; padding: 0 .5ex}\n",
              "</style>\n",
              "<ol class=list-inline><li>277</li><li>3</li></ol>\n"
            ],
            "text/markdown": "1. 277\n2. 3\n\n\n",
            "text/latex": "\\begin{enumerate*}\n\\item 277\n\\item 3\n\\end{enumerate*}\n",
            "text/plain": [
              "[1] 277   3"
            ]
          },
          "metadata": {}
        },
        {
          "output_type": "display_data",
          "data": {
            "text/html": [
              "<style>\n",
              ".list-inline {list-style: none; margin:0; padding: 0}\n",
              ".list-inline>li {display: inline-block}\n",
              ".list-inline>li:not(:last-child)::after {content: \"\\00b7\"; padding: 0 .5ex}\n",
              "</style>\n",
              "<ol class=list-inline><li>370</li><li>3</li></ol>\n"
            ],
            "text/markdown": "1. 370\n2. 3\n\n\n",
            "text/latex": "\\begin{enumerate*}\n\\item 370\n\\item 3\n\\end{enumerate*}\n",
            "text/plain": [
              "[1] 370   3"
            ]
          },
          "metadata": {}
        },
        {
          "output_type": "display_data",
          "data": {
            "text/html": [
              "<style>\n",
              ".list-inline {list-style: none; margin:0; padding: 0}\n",
              ".list-inline>li {display: inline-block}\n",
              ".list-inline>li:not(:last-child)::after {content: \"\\00b7\"; padding: 0 .5ex}\n",
              "</style>\n",
              "<ol class=list-inline><li>340</li><li>3</li></ol>\n"
            ],
            "text/markdown": "1. 340\n2. 3\n\n\n",
            "text/latex": "\\begin{enumerate*}\n\\item 340\n\\item 3\n\\end{enumerate*}\n",
            "text/plain": [
              "[1] 340   3"
            ]
          },
          "metadata": {}
        },
        {
          "output_type": "display_data",
          "data": {
            "text/html": [
              "<style>\n",
              ".list-inline {list-style: none; margin:0; padding: 0}\n",
              ".list-inline>li {display: inline-block}\n",
              ".list-inline>li:not(:last-child)::after {content: \"\\00b7\"; padding: 0 .5ex}\n",
              "</style>\n",
              "<ol class=list-inline><li>370</li><li>3</li></ol>\n"
            ],
            "text/markdown": "1. 370\n2. 3\n\n\n",
            "text/latex": "\\begin{enumerate*}\n\\item 370\n\\item 3\n\\end{enumerate*}\n",
            "text/plain": [
              "[1] 370   3"
            ]
          },
          "metadata": {}
        }
      ]
    },
    {
      "cell_type": "markdown",
      "source": [
        "Sprawdzmy czy populacja jest w staie równowagi HW\n",
        "\n",
        "1) Cancer\n",
        "\n",
        "Liczebość obserwacji"
      ],
      "metadata": {
        "id": "SZls17ksZAUL"
      }
    },
    {
      "cell_type": "code",
      "source": [
        "table(VDRcase$VDR)"
      ],
      "metadata": {
        "colab": {
          "base_uri": "https://localhost:8080/",
          "height": 68
        },
        "id": "Uyb2PwNmY3AL",
        "outputId": "06f8e093-345c-45ac-ac88-621cad1f9e74"
      },
      "execution_count": null,
      "outputs": [
        {
          "output_type": "display_data",
          "data": {
            "text/plain": [
              "\n",
              "AA AG GG \n",
              "92 94 90 "
            ]
          },
          "metadata": {}
        }
      ]
    },
    {
      "cell_type": "code",
      "source": [
        "N<-sum(table(VDRcase$VDR))\n",
        "AA<-92\n",
        "AG<-94\n",
        "GG<-90"
      ],
      "metadata": {
        "id": "8X6PI6_kY3DH"
      },
      "execution_count": null,
      "outputs": []
    },
    {
      "cell_type": "markdown",
      "source": [
        "Liczembość alleli"
      ],
      "metadata": {
        "id": "roAXJwJZZW8-"
      }
    },
    {
      "cell_type": "code",
      "source": [
        "(nA<-2*AA+AG)\n",
        "(nG<-2*GG+AG)"
      ],
      "metadata": {
        "colab": {
          "base_uri": "https://localhost:8080/",
          "height": 51
        },
        "id": "YmpxJPzgY3GU",
        "outputId": "ab846203-9ad7-4f42-e433-add90d0ac8c4"
      },
      "execution_count": null,
      "outputs": [
        {
          "output_type": "display_data",
          "data": {
            "text/html": [
              "278"
            ],
            "text/markdown": "278",
            "text/latex": "278",
            "text/plain": [
              "[1] 278"
            ]
          },
          "metadata": {}
        },
        {
          "output_type": "display_data",
          "data": {
            "text/html": [
              "274"
            ],
            "text/markdown": "274",
            "text/latex": "274",
            "text/plain": [
              "[1] 274"
            ]
          },
          "metadata": {}
        }
      ]
    },
    {
      "cell_type": "code",
      "source": [
        "(p<-nA/(2*N))\n",
        "(q<-nG/(2*N))\n",
        "p+q"
      ],
      "metadata": {
        "colab": {
          "base_uri": "https://localhost:8080/",
          "height": 68
        },
        "id": "M9EwT5vTY3JP",
        "outputId": "da916934-323a-444b-9c8f-88a29decbd0e"
      },
      "execution_count": null,
      "outputs": [
        {
          "output_type": "display_data",
          "data": {
            "text/html": [
              "0.503623188405797"
            ],
            "text/markdown": "0.503623188405797",
            "text/latex": "0.503623188405797",
            "text/plain": [
              "[1] 0.5036232"
            ]
          },
          "metadata": {}
        },
        {
          "output_type": "display_data",
          "data": {
            "text/html": [
              "0.496376811594203"
            ],
            "text/markdown": "0.496376811594203",
            "text/latex": "0.496376811594203",
            "text/plain": [
              "[1] 0.4963768"
            ]
          },
          "metadata": {}
        },
        {
          "output_type": "display_data",
          "data": {
            "text/html": [
              "1"
            ],
            "text/markdown": "1",
            "text/latex": "1",
            "text/plain": [
              "[1] 1"
            ]
          },
          "metadata": {}
        }
      ]
    },
    {
      "cell_type": "markdown",
      "source": [
        "oczekiwana liczbośc genów"
      ],
      "metadata": {
        "id": "u8pIstf1Zc2j"
      }
    },
    {
      "cell_type": "code",
      "source": [
        "eAA<-p^2*N\n",
        "eAG<-2*p*q*N\n",
        "eGG<-q^2*N"
      ],
      "metadata": {
        "id": "K3RCUTRFYvne"
      },
      "execution_count": null,
      "outputs": []
    },
    {
      "cell_type": "markdown",
      "source": [
        "Statystyka chi-kwadrat"
      ],
      "metadata": {
        "id": "8yxgqTSyZhZ8"
      }
    },
    {
      "cell_type": "code",
      "source": [
        "VDRc<-((92-eAA)^2/eAA)+((94-eAG)^2/eAG)+((90-eGG)^2/eGG) #suma kwadratów różnic\n",
        "alfa=0.05 #poziom istotonscio\n",
        "df=3-1  #stopnie sfobody\n",
        "VDRc"
      ],
      "metadata": {
        "colab": {
          "base_uri": "https://localhost:8080/",
          "height": 34
        },
        "id": "_DRz_JuHZkFI",
        "outputId": "fa77e1f9-17ba-4c4c-c326-1faf6dde6b61"
      },
      "execution_count": null,
      "outputs": [
        {
          "output_type": "display_data",
          "data": {
            "text/html": [
              "28.0516759279362"
            ],
            "text/markdown": "28.0516759279362",
            "text/latex": "28.0516759279362",
            "text/plain": [
              "[1] 28.05168"
            ]
          },
          "metadata": {}
        }
      ]
    },
    {
      "cell_type": "code",
      "source": [
        "qchisq(1-alfa,df)"
      ],
      "metadata": {
        "colab": {
          "base_uri": "https://localhost:8080/",
          "height": 34
        },
        "id": "PNcjCT7yZkIC",
        "outputId": "c614a4bc-8aa9-4b30-f92b-b85d99a2ab11"
      },
      "execution_count": null,
      "outputs": [
        {
          "output_type": "display_data",
          "data": {
            "text/html": [
              "5.99146454710798"
            ],
            "text/markdown": "5.99146454710798",
            "text/latex": "5.99146454710798",
            "text/plain": [
              "[1] 5.991465"
            ]
          },
          "metadata": {}
        }
      ]
    },
    {
      "cell_type": "code",
      "source": [
        "p_value <- 1 - pchisq(VDRc, df)\n",
        "alfa <- 0.05\n",
        "\n",
        "p_value"
      ],
      "metadata": {
        "colab": {
          "base_uri": "https://localhost:8080/",
          "height": 34
        },
        "id": "n-ZqhThrZkKj",
        "outputId": "82ea2463-280d-4fc2-f5ab-5e4535501c81"
      },
      "execution_count": null,
      "outputs": [
        {
          "output_type": "display_data",
          "data": {
            "text/html": [
              "8.103188993136e-07"
            ],
            "text/markdown": "8.103188993136e-07",
            "text/latex": "8.103188993136e-07",
            "text/plain": [
              "[1] 8.103189e-07"
            ]
          },
          "metadata": {}
        }
      ]
    },
    {
      "cell_type": "code",
      "source": [
        "chisq.test(c(92,94,90), p=c(eAA/N,eAG/N,eGG/N))$p.value"
      ],
      "metadata": {
        "colab": {
          "base_uri": "https://localhost:8080/",
          "height": 34
        },
        "id": "rB6R_eKmZkNY",
        "outputId": "73e91124-95ec-4877-8b9b-97a41836fdb3"
      },
      "execution_count": null,
      "outputs": [
        {
          "output_type": "display_data",
          "data": {
            "text/html": [
              "8.10318899261881e-07"
            ],
            "text/markdown": "8.10318899261881e-07",
            "text/latex": "8.10318899261881e-07",
            "text/plain": [
              "[1] 8.103189e-07"
            ]
          },
          "metadata": {}
        }
      ]
    },
    {
      "cell_type": "markdown",
      "source": [
        "H0: Populacja osób chorych na raka znajduje się w stanie  równowagi Hardy'ego-Weinberga.\n",
        "\n",
        "h1: Populacja osób chorych na raka nie znajduje się w stanie  równowagi Hardy'ego-Weinberga.\n",
        "\n",
        "x^2 = 28.05 > 5,99 = x^2(0,05)\n",
        "\n",
        "p.value = 8.103189e-07 < 0.05\n",
        "\n",
        "Brak podstaw do przyjęcia hipotezy zerowej, subpopulacja nie znajduje się w stanie równowagi Hardy'ego-Weinberga."
      ],
      "metadata": {
        "id": "4BekfEbZZqjW"
      }
    },
    {
      "cell_type": "markdown",
      "source": [
        "2) Contreol"
      ],
      "metadata": {
        "id": "_32UcqeRZzqU"
      }
    },
    {
      "cell_type": "code",
      "source": [
        "table(VDRcontrol$VDR)"
      ],
      "metadata": {
        "colab": {
          "base_uri": "https://localhost:8080/",
          "height": 68
        },
        "id": "mPL_40uwZkQi",
        "outputId": "6c33fe8b-31af-4171-e2c0-1c138210870d"
      },
      "execution_count": null,
      "outputs": [
        {
          "output_type": "display_data",
          "data": {
            "text/plain": [
              "\n",
              " AA  AG  GG \n",
              " 65 170 134 "
            ]
          },
          "metadata": {}
        }
      ]
    },
    {
      "cell_type": "code",
      "source": [
        "N2<-sum(table(VDRcontrol$VDR))\n",
        "(nAvdr<-2*65+170)\n",
        "(nGvdr<-2*134+170)\n",
        "\n",
        "(pvdr<-nAvdr/(2*N2))\n",
        "(qvdr<-nGvdr/(2*N2))"
      ],
      "metadata": {
        "colab": {
          "base_uri": "https://localhost:8080/",
          "height": 85
        },
        "id": "JgR6rEEtZ2gE",
        "outputId": "c54ee7dc-3cda-4df9-aa29-db44edcea687"
      },
      "execution_count": null,
      "outputs": [
        {
          "output_type": "display_data",
          "data": {
            "text/html": [
              "300"
            ],
            "text/markdown": "300",
            "text/latex": "300",
            "text/plain": [
              "[1] 300"
            ]
          },
          "metadata": {}
        },
        {
          "output_type": "display_data",
          "data": {
            "text/html": [
              "438"
            ],
            "text/markdown": "438",
            "text/latex": "438",
            "text/plain": [
              "[1] 438"
            ]
          },
          "metadata": {}
        },
        {
          "output_type": "display_data",
          "data": {
            "text/html": [
              "0.40650406504065"
            ],
            "text/markdown": "0.40650406504065",
            "text/latex": "0.40650406504065",
            "text/plain": [
              "[1] 0.4065041"
            ]
          },
          "metadata": {}
        },
        {
          "output_type": "display_data",
          "data": {
            "text/html": [
              "0.59349593495935"
            ],
            "text/markdown": "0.59349593495935",
            "text/latex": "0.59349593495935",
            "text/plain": [
              "[1] 0.5934959"
            ]
          },
          "metadata": {}
        }
      ]
    },
    {
      "cell_type": "code",
      "source": [
        "eAAvdr<-pvdr^2*N2\n",
        "eAGvdr<-2*pvdr*qvdr*N2\n",
        "eGGvdr<-qvdr^2*N2\n",
        "\n",
        "VDRcc<-((65-eAAvdr)^2/eAAvdr)+((170-eAGvdr)^2/eAGvdr)+((134-eGGvdr)^2/eGGvdr)\n",
        "alfa=0.05\n",
        "dff=3-1\n",
        "VDRcc\n",
        "qchisq(1-alfa,df)"
      ],
      "metadata": {
        "colab": {
          "base_uri": "https://localhost:8080/",
          "height": 51
        },
        "id": "V0EB6ttHZ2i3",
        "outputId": "cec50d46-9d26-4468-8e4e-ec5d37c20786"
      },
      "execution_count": null,
      "outputs": [
        {
          "output_type": "display_data",
          "data": {
            "text/html": [
              "0.754064552448867"
            ],
            "text/markdown": "0.754064552448867",
            "text/latex": "0.754064552448867",
            "text/plain": [
              "[1] 0.7540646"
            ]
          },
          "metadata": {}
        },
        {
          "output_type": "display_data",
          "data": {
            "text/html": [
              "5.99146454710798"
            ],
            "text/markdown": "5.99146454710798",
            "text/latex": "5.99146454710798",
            "text/plain": [
              "[1] 5.991465"
            ]
          },
          "metadata": {}
        }
      ]
    },
    {
      "cell_type": "code",
      "source": [
        "p_value <- 1 - pchisq(VDRcc, dff)\n",
        "alfa <- 0.05\n",
        "\n",
        "p_value"
      ],
      "metadata": {
        "colab": {
          "base_uri": "https://localhost:8080/",
          "height": 34
        },
        "id": "5xi8fp3EZ2lo",
        "outputId": "8a2a6b6b-56e2-47cb-bd8d-2ab32dc59b08"
      },
      "execution_count": null,
      "outputs": [
        {
          "output_type": "display_data",
          "data": {
            "text/html": [
              "0.685893935472151"
            ],
            "text/markdown": "0.685893935472151",
            "text/latex": "0.685893935472151",
            "text/plain": [
              "[1] 0.6858939"
            ]
          },
          "metadata": {}
        }
      ]
    },
    {
      "cell_type": "markdown",
      "source": [
        "H0: Populacja osób chorych na raka znajduje się w stanie równowagi Hardy'ego-Weinberga.\n",
        "\n",
        "H1: Populacja osób chorych na raka nie znajduje się w stanie równowagi Hardy'ego-Weinberga.\n",
        "\n",
        "x^2 = 0,75 < 5,99 =x^2(0,05)\n",
        "\n",
        "p.value = 0.6858939 > 0,05\n",
        "\n",
        "Brak podstaw do odrzucenia hipotezy zerowej, subpoplulacja znajduje się w stanie równowagi Hardy'ego-Weinberga."
      ],
      "metadata": {
        "id": "LTgnTwtyZ--d"
      }
    },
    {
      "cell_type": "markdown",
      "source": [
        "Wariant BSM\n",
        "\n",
        "1) Cancer"
      ],
      "metadata": {
        "id": "UV2cRJNCaBT8"
      }
    },
    {
      "cell_type": "code",
      "source": [
        "(t3<-table(BSMcase$BSM))\n",
        "N3<-sum(t3)"
      ],
      "metadata": {
        "colab": {
          "base_uri": "https://localhost:8080/",
          "height": 68
        },
        "id": "KNj9EqulZ2ri",
        "outputId": "c9d10b82-2452-4d90-d533-3d7c9f88908d"
      },
      "execution_count": null,
      "outputs": [
        {
          "output_type": "display_data",
          "data": {
            "text/plain": [
              "\n",
              "CC CT TC TT \n",
              "96 71 69 40 "
            ]
          },
          "metadata": {}
        }
      ]
    },
    {
      "cell_type": "code",
      "source": [
        "pC<-(2*96+71+69)/(2*N3)\n",
        "pT<-(2*40+71+69)/(2*N3)\n",
        "\n",
        "eCCa <- pC^2*N3\n",
        "eCTa <- 2*pC*pT*N3\n",
        "eTTa <- pT^2*N3\n",
        "\n",
        "BSMc<-((96-eCCa)^2/eCCa)+(((71+69)-eCTa)^2/eCTa)+((40-eTTa)^2/eTTa)\n",
        "alfa=0.05\n",
        "df=3-1\n",
        "BSMc\n",
        "qchisq(1-alfa,df)"
      ],
      "metadata": {
        "colab": {
          "base_uri": "https://localhost:8080/",
          "height": 51
        },
        "id": "l7FiO563Z2wT",
        "outputId": "d2051992-6a5a-4dbb-fff8-630fdcd2e92d"
      },
      "execution_count": null,
      "outputs": [
        {
          "output_type": "display_data",
          "data": {
            "text/html": [
              "0.930077774005514"
            ],
            "text/markdown": "0.930077774005514",
            "text/latex": "0.930077774005514",
            "text/plain": [
              "[1] 0.9300778"
            ]
          },
          "metadata": {}
        },
        {
          "output_type": "display_data",
          "data": {
            "text/html": [
              "5.99146454710798"
            ],
            "text/markdown": "5.99146454710798",
            "text/latex": "5.99146454710798",
            "text/plain": [
              "[1] 5.991465"
            ]
          },
          "metadata": {}
        }
      ]
    },
    {
      "cell_type": "code",
      "source": [
        "p_value <- 1 - pchisq(BSMc, df)\n",
        "alfa <- 0.05\n",
        "\n",
        "p_value"
      ],
      "metadata": {
        "colab": {
          "base_uri": "https://localhost:8080/",
          "height": 34
        },
        "id": "hul_VliVZ2zt",
        "outputId": "80012446-0dff-4161-bb97-d9256767f10b"
      },
      "execution_count": null,
      "outputs": [
        {
          "output_type": "display_data",
          "data": {
            "text/html": [
              "0.628110679373"
            ],
            "text/markdown": "0.628110679373",
            "text/latex": "0.628110679373",
            "text/plain": [
              "[1] 0.6281107"
            ]
          },
          "metadata": {}
        }
      ]
    },
    {
      "cell_type": "code",
      "source": [
        "chisq.test(c(96,71+69,40), p=c(eCCa/N3,eCTa/N3,eTTa/N3))"
      ],
      "metadata": {
        "colab": {
          "base_uri": "https://localhost:8080/",
          "height": 102
        },
        "id": "chn_LDmAaL6w",
        "outputId": "8e12a496-7408-4645-8503-21f4fd606ad4"
      },
      "execution_count": null,
      "outputs": [
        {
          "output_type": "display_data",
          "data": {
            "text/plain": [
              "\n",
              "\tChi-squared test for given probabilities\n",
              "\n",
              "data:  c(96, 71 + 69, 40)\n",
              "X-squared = 0.93008, df = 2, p-value = 0.6281\n"
            ]
          },
          "metadata": {}
        }
      ]
    },
    {
      "cell_type": "markdown",
      "source": [
        "H0: Populacja osób chorych na raka znajduje się w stanie równowagi Hardy'ego-Weinberga.\n",
        "\n",
        "h1: Populacja osób chorych na raka nie znajduje się w stanie równowagi Hardy'ego-Weinberga.\n",
        "\n",
        "x^2 = 0,93 < 5,99 =x^2(0,05)\n",
        "\n",
        "p.value = 0.6281 > 0,05\n",
        "\n",
        "Brak podstaw do odrzucenia hipotezy zerowej, subpoplulacja znajduje się w stanie równowagi Hardy'ego-Weinberga."
      ],
      "metadata": {
        "id": "pWG4VGzdaNzD"
      }
    },
    {
      "cell_type": "markdown",
      "source": [
        "2) Control"
      ],
      "metadata": {
        "id": "kGok70EAaQJE"
      }
    },
    {
      "cell_type": "code",
      "source": [
        "(t4<-table(BSMcontrol$BSM))\n",
        "N4<-sum(t4)"
      ],
      "metadata": {
        "colab": {
          "base_uri": "https://localhost:8080/",
          "height": 68
        },
        "id": "LBsLxl1IaL9x",
        "outputId": "3bf94785-d016-434b-bcd1-0b61f72e7e40"
      },
      "execution_count": null,
      "outputs": [
        {
          "output_type": "display_data",
          "data": {
            "text/plain": [
              "\n",
              " CC  CT  TC  TT \n",
              "106  71  85  44 "
            ]
          },
          "metadata": {}
        }
      ]
    },
    {
      "cell_type": "code",
      "source": [
        "pCb<-(2*106+71+85)/(2*N4)\n",
        "qTb<-(2*44+71+85)/(2*N4)\n",
        "\n",
        "eCCb <- pCb^2*N4\n",
        "eCTb <- 2*pCb*qTb*N4\n",
        "eTTb <- qTb^2*N4\n",
        "\n",
        "BSMcc<-((106-eCCb)^2/eCCb)+(((71+85)-eCTb)^2/eCTb)+((44-eTTb)^2/eTTb)\n",
        "alfa=0.05\n",
        "df=3-1\n",
        "BSMcc\n",
        "qchisq(1-alfa,df)"
      ],
      "metadata": {
        "colab": {
          "base_uri": "https://localhost:8080/",
          "height": 51
        },
        "id": "UZG1Jy5QaMAx",
        "outputId": "b8cb6749-4027-4492-e8fd-c14755968038"
      },
      "execution_count": null,
      "outputs": [
        {
          "output_type": "display_data",
          "data": {
            "text/html": [
              "1.22445494051287"
            ],
            "text/markdown": "1.22445494051287",
            "text/latex": "1.22445494051287",
            "text/plain": [
              "[1] 1.224455"
            ]
          },
          "metadata": {}
        },
        {
          "output_type": "display_data",
          "data": {
            "text/html": [
              "5.99146454710798"
            ],
            "text/markdown": "5.99146454710798",
            "text/latex": "5.99146454710798",
            "text/plain": [
              "[1] 5.991465"
            ]
          },
          "metadata": {}
        }
      ]
    },
    {
      "cell_type": "code",
      "source": [
        "p_value <- 1 - pchisq(BSMcc, df)\n",
        "alfa <- 0.05\n",
        "\n",
        "p_value"
      ],
      "metadata": {
        "colab": {
          "base_uri": "https://localhost:8080/",
          "height": 34
        },
        "id": "SBmxANUSaMD9",
        "outputId": "79b05897-7e95-439f-f4e0-d2c528a9a1bb"
      },
      "execution_count": null,
      "outputs": [
        {
          "output_type": "display_data",
          "data": {
            "text/html": [
              "0.54214191812583"
            ],
            "text/markdown": "0.54214191812583",
            "text/latex": "0.54214191812583",
            "text/plain": [
              "[1] 0.5421419"
            ]
          },
          "metadata": {}
        }
      ]
    },
    {
      "cell_type": "code",
      "source": [
        "chisq.test(c(106,71+85,44), p=c(eCCa/N3,eCTa/N3,eTTa/N3))"
      ],
      "metadata": {
        "id": "7WzLpV4NaW-C"
      },
      "execution_count": null,
      "outputs": []
    },
    {
      "cell_type": "markdown",
      "source": [
        "H0: Populacja osób chorych na raka znajduje się w stanie równowagi Hardy'ego-Weinberga.\n",
        "\n",
        "h1: Populacja osób chorych na raka nie znajduje się w stanie równowagi Hardy'ego-Weinberga.\n",
        "\n",
        "x^2 = 1,22 < 5,99 =x^2(0,05)\n",
        "\n",
        "p.value = 0.5421419 > 0,05\n",
        "\n",
        "Brak podstaw do odrzucenia hipotezy zerowej, subpoplulacja znajduje się w stanie równowagi Hardy'ego-Weinberga.\n",
        "\n",
        "Róznice w występowaniu cześci genotypów"
      ],
      "metadata": {
        "id": "fEyDRJ5yaYr4"
      }
    },
    {
      "cell_type": "markdown",
      "source": [
        "BSM"
      ],
      "metadata": {
        "id": "BIMwTPW6abMS"
      }
    },
    {
      "cell_type": "code",
      "source": [
        "table(BSMcontrol$BSM)\n",
        "table(BSMcase$BSM)"
      ],
      "metadata": {
        "colab": {
          "base_uri": "https://localhost:8080/",
          "height": 119
        },
        "id": "XOimhmOHaXCF",
        "outputId": "39c5feb0-e552-441b-b423-b22f08445ee6"
      },
      "execution_count": null,
      "outputs": [
        {
          "output_type": "display_data",
          "data": {
            "text/plain": [
              "\n",
              " CC  CT  TC  TT \n",
              "106  71  85  44 "
            ]
          },
          "metadata": {}
        },
        {
          "output_type": "display_data",
          "data": {
            "text/plain": [
              "\n",
              "CC CT TC TT \n",
              "96 71 69 40 "
            ]
          },
          "metadata": {}
        }
      ]
    },
    {
      "cell_type": "code",
      "source": [
        "m1=matrix(c(106,71,85,44,96,71,69,40),ncol=2)\n",
        "colnames(m1)=c(\"control\",\"case\")\n",
        "rownames(m1)=c(\"CC\",\"CT\",\"TC\",\"TT\")\n",
        "m1"
      ],
      "metadata": {
        "colab": {
          "base_uri": "https://localhost:8080/",
          "height": 207
        },
        "id": "UtsFsl-gaXJd",
        "outputId": "7a97d970-d9ff-4edc-9780-e9742011c584"
      },
      "execution_count": null,
      "outputs": [
        {
          "output_type": "display_data",
          "data": {
            "text/html": [
              "<table class=\"dataframe\">\n",
              "<caption>A matrix: 4 × 2 of type dbl</caption>\n",
              "<thead>\n",
              "\t<tr><th></th><th scope=col>control</th><th scope=col>case</th></tr>\n",
              "</thead>\n",
              "<tbody>\n",
              "\t<tr><th scope=row>CC</th><td>106</td><td>96</td></tr>\n",
              "\t<tr><th scope=row>CT</th><td> 71</td><td>71</td></tr>\n",
              "\t<tr><th scope=row>TC</th><td> 85</td><td>69</td></tr>\n",
              "\t<tr><th scope=row>TT</th><td> 44</td><td>40</td></tr>\n",
              "</tbody>\n",
              "</table>\n"
            ],
            "text/markdown": "\nA matrix: 4 × 2 of type dbl\n\n| <!--/--> | control | case |\n|---|---|---|\n| CC | 106 | 96 |\n| CT |  71 | 71 |\n| TC |  85 | 69 |\n| TT |  44 | 40 |\n\n",
            "text/latex": "A matrix: 4 × 2 of type dbl\n\\begin{tabular}{r|ll}\n  & control & case\\\\\n\\hline\n\tCC & 106 & 96\\\\\n\tCT &  71 & 71\\\\\n\tTC &  85 & 69\\\\\n\tTT &  44 & 40\\\\\n\\end{tabular}\n",
            "text/plain": [
              "   control case\n",
              "CC 106     96  \n",
              "CT  71     71  \n",
              "TC  85     69  \n",
              "TT  44     40  "
            ]
          },
          "metadata": {}
        }
      ]
    },
    {
      "cell_type": "code",
      "source": [
        "m1[,1]<-m1[,1]/sum(m1[,1])\n",
        "m1[,2]<-m1[,2]/sum(m1[,2])\n",
        "m1"
      ],
      "metadata": {
        "colab": {
          "base_uri": "https://localhost:8080/",
          "height": 190
        },
        "id": "7y1Q80qPafAH",
        "outputId": "d85058c4-9bf0-4556-e3fd-fcc08c5aa9eb"
      },
      "execution_count": null,
      "outputs": [
        {
          "output_type": "display_data",
          "data": {
            "text/html": [
              "<table class=\"dataframe\">\n",
              "<caption>A matrix: 4 × 2 of type dbl</caption>\n",
              "<thead>\n",
              "\t<tr><th></th><th scope=col>control</th><th scope=col>case</th></tr>\n",
              "</thead>\n",
              "<tbody>\n",
              "\t<tr><th scope=row>CC</th><td>0.3464052</td><td>0.3478261</td></tr>\n",
              "\t<tr><th scope=row>CT</th><td>0.2320261</td><td>0.2572464</td></tr>\n",
              "\t<tr><th scope=row>TC</th><td>0.2777778</td><td>0.2500000</td></tr>\n",
              "\t<tr><th scope=row>TT</th><td>0.1437908</td><td>0.1449275</td></tr>\n",
              "</tbody>\n",
              "</table>\n"
            ],
            "text/markdown": "\nA matrix: 4 × 2 of type dbl\n\n| <!--/--> | control | case |\n|---|---|---|\n| CC | 0.3464052 | 0.3478261 |\n| CT | 0.2320261 | 0.2572464 |\n| TC | 0.2777778 | 0.2500000 |\n| TT | 0.1437908 | 0.1449275 |\n\n",
            "text/latex": "A matrix: 4 × 2 of type dbl\n\\begin{tabular}{r|ll}\n  & control & case\\\\\n\\hline\n\tCC & 0.3464052 & 0.3478261\\\\\n\tCT & 0.2320261 & 0.2572464\\\\\n\tTC & 0.2777778 & 0.2500000\\\\\n\tTT & 0.1437908 & 0.1449275\\\\\n\\end{tabular}\n",
            "text/plain": [
              "   control   case     \n",
              "CC 0.3464052 0.3478261\n",
              "CT 0.2320261 0.2572464\n",
              "TC 0.2777778 0.2500000\n",
              "TT 0.1437908 0.1449275"
            ]
          },
          "metadata": {}
        }
      ]
    },
    {
      "cell_type": "code",
      "source": [
        "stat1<-((m1[1,1]-m1[1,2])^2/m1[1,2])+((m1[2,1]-m1[2,2])^2/m1[2,2])+((m1[3,1]-m1[3,2])^2/m1[3,2])+((m1[4,1]-m1[4,2])^2/m1[4,2])\n",
        "stat1"
      ],
      "metadata": {
        "colab": {
          "base_uri": "https://localhost:8080/",
          "height": 34
        },
        "id": "31bz55HRafD0",
        "outputId": "aaf32dee-d95e-4825-dec5-96e53c3c6234"
      },
      "execution_count": null,
      "outputs": [
        {
          "output_type": "display_data",
          "data": {
            "text/html": [
              "0.00557371096586783"
            ],
            "text/markdown": "0.00557371096586783",
            "text/latex": "0.00557371096586783",
            "text/plain": [
              "[1] 0.005573711"
            ]
          },
          "metadata": {}
        }
      ]
    },
    {
      "cell_type": "code",
      "source": [
        "alfa=0.05\n",
        "df=4-1\n",
        "qchisq(1-alfa,df)"
      ],
      "metadata": {
        "colab": {
          "base_uri": "https://localhost:8080/",
          "height": 34
        },
        "id": "Y056MWUJafMU",
        "outputId": "5c1b60c2-336e-4876-f31a-d1caa2ac43f5"
      },
      "execution_count": null,
      "outputs": [
        {
          "output_type": "display_data",
          "data": {
            "text/html": [
              "7.81472790325118"
            ],
            "text/markdown": "7.81472790325118",
            "text/latex": "7.81472790325118",
            "text/plain": [
              "[1] 7.814728"
            ]
          },
          "metadata": {}
        }
      ]
    },
    {
      "cell_type": "code",
      "source": [
        "chisq.test(m1[,1], p=m1[,2])"
      ],
      "metadata": {
        "colab": {
          "base_uri": "https://localhost:8080/",
          "height": 136
        },
        "id": "BVqlXbXlaj4r",
        "outputId": "3ba7b61f-5856-4f40-c76a-163f8832e5a5"
      },
      "execution_count": null,
      "outputs": [
        {
          "output_type": "stream",
          "name": "stderr",
          "text": [
            "Warning message in chisq.test(m1[, 1], p = m1[, 2]):\n",
            "“Chi-squared approximation may be incorrect”\n"
          ]
        },
        {
          "output_type": "display_data",
          "data": {
            "text/plain": [
              "\n",
              "\tChi-squared test for given probabilities\n",
              "\n",
              "data:  m1[, 1]\n",
              "X-squared = 0.0055737, df = 3, p-value = 0.9999\n"
            ]
          },
          "metadata": {}
        }
      ]
    },
    {
      "cell_type": "markdown",
      "source": [
        "H0: Brak różnic biedzy subpopulacjami\n",
        "\n",
        "H1: Wystepują różnice miedzy subpopulacjami\n",
        "\n",
        "\n",
        "x^2 = 0.0055737 < 7.814728 =x^2(0,05)\n",
        "\n",
        "p.value = 1 > 0,05\n",
        "\n",
        "Brak podstaw do odrzucenia hipotezy zerowej, nie ma różnic w występowaniu genotypów miedzy subpopulacjiami."
      ],
      "metadata": {
        "id": "0qNfB5PFalkD"
      }
    },
    {
      "cell_type": "code",
      "source": [
        "table(VDRcontrol$VDR)\n",
        "table(VDRcase$VDR)"
      ],
      "metadata": {
        "colab": {
          "base_uri": "https://localhost:8080/",
          "height": 119
        },
        "id": "L9LFP_IXaj8i",
        "outputId": "ad7f23bb-76ae-4c2b-fc3b-4579779a0150"
      },
      "execution_count": null,
      "outputs": [
        {
          "output_type": "display_data",
          "data": {
            "text/plain": [
              "\n",
              " AA  AG  GG \n",
              " 65 170 134 "
            ]
          },
          "metadata": {}
        },
        {
          "output_type": "display_data",
          "data": {
            "text/plain": [
              "\n",
              "AA AG GG \n",
              "92 94 90 "
            ]
          },
          "metadata": {}
        }
      ]
    },
    {
      "cell_type": "code",
      "source": [
        "m2=matrix(c(65, 170, 134, 92, 94, 90),ncol=2)\n",
        "colnames(m2)=c(\"control\",\"case\")\n",
        "rownames(m2)=c(\"AA\",\"AG\",\"GG\")\n",
        "m2"
      ],
      "metadata": {
        "colab": {
          "base_uri": "https://localhost:8080/",
          "height": 176
        },
        "id": "L8SiSxlxakAe",
        "outputId": "8f2fc621-7629-401d-9135-bff5952b462b"
      },
      "execution_count": null,
      "outputs": [
        {
          "output_type": "display_data",
          "data": {
            "text/html": [
              "<table class=\"dataframe\">\n",
              "<caption>A matrix: 3 × 2 of type dbl</caption>\n",
              "<thead>\n",
              "\t<tr><th></th><th scope=col>control</th><th scope=col>case</th></tr>\n",
              "</thead>\n",
              "<tbody>\n",
              "\t<tr><th scope=row>AA</th><td> 65</td><td>92</td></tr>\n",
              "\t<tr><th scope=row>AG</th><td>170</td><td>94</td></tr>\n",
              "\t<tr><th scope=row>GG</th><td>134</td><td>90</td></tr>\n",
              "</tbody>\n",
              "</table>\n"
            ],
            "text/markdown": "\nA matrix: 3 × 2 of type dbl\n\n| <!--/--> | control | case |\n|---|---|---|\n| AA |  65 | 92 |\n| AG | 170 | 94 |\n| GG | 134 | 90 |\n\n",
            "text/latex": "A matrix: 3 × 2 of type dbl\n\\begin{tabular}{r|ll}\n  & control & case\\\\\n\\hline\n\tAA &  65 & 92\\\\\n\tAG & 170 & 94\\\\\n\tGG & 134 & 90\\\\\n\\end{tabular}\n",
            "text/plain": [
              "   control case\n",
              "AA  65     92  \n",
              "AG 170     94  \n",
              "GG 134     90  "
            ]
          },
          "metadata": {}
        }
      ]
    },
    {
      "cell_type": "code",
      "source": [
        "m2[,1]<-m2[,1]/sum(m2[,1])\n",
        "m2[,2]<-m2[,2]/sum(m2[,2])\n",
        "m2"
      ],
      "metadata": {
        "colab": {
          "base_uri": "https://localhost:8080/",
          "height": 159
        },
        "id": "S3fd10etax5C",
        "outputId": "d8151b7b-337c-4f39-f835-9c834027818d"
      },
      "execution_count": null,
      "outputs": [
        {
          "output_type": "display_data",
          "data": {
            "text/html": [
              "<table class=\"dataframe\">\n",
              "<caption>A matrix: 3 × 2 of type dbl</caption>\n",
              "<thead>\n",
              "\t<tr><th></th><th scope=col>control</th><th scope=col>case</th></tr>\n",
              "</thead>\n",
              "<tbody>\n",
              "\t<tr><th scope=row>AA</th><td>0.1761518</td><td>0.3333333</td></tr>\n",
              "\t<tr><th scope=row>AG</th><td>0.4607046</td><td>0.3405797</td></tr>\n",
              "\t<tr><th scope=row>GG</th><td>0.3631436</td><td>0.3260870</td></tr>\n",
              "</tbody>\n",
              "</table>\n"
            ],
            "text/markdown": "\nA matrix: 3 × 2 of type dbl\n\n| <!--/--> | control | case |\n|---|---|---|\n| AA | 0.1761518 | 0.3333333 |\n| AG | 0.4607046 | 0.3405797 |\n| GG | 0.3631436 | 0.3260870 |\n\n",
            "text/latex": "A matrix: 3 × 2 of type dbl\n\\begin{tabular}{r|ll}\n  & control & case\\\\\n\\hline\n\tAA & 0.1761518 & 0.3333333\\\\\n\tAG & 0.4607046 & 0.3405797\\\\\n\tGG & 0.3631436 & 0.3260870\\\\\n\\end{tabular}\n",
            "text/plain": [
              "   control   case     \n",
              "AA 0.1761518 0.3333333\n",
              "AG 0.4607046 0.3405797\n",
              "GG 0.3631436 0.3260870"
            ]
          },
          "metadata": {}
        }
      ]
    },
    {
      "cell_type": "code",
      "source": [
        "stat2<-((0.1761518-0.3333333)^2/0.3333333) + ((0.4607046-0.3405797)^2/0.3405797) + ((0.3631436-0.3260870)^2/0.3260870)\n",
        "stat2"
      ],
      "metadata": {
        "colab": {
          "base_uri": "https://localhost:8080/",
          "height": 34
        },
        "id": "OUd7QlHnax8o",
        "outputId": "75d54376-6ff0-4b06-b36d-43d8a1449272"
      },
      "execution_count": null,
      "outputs": [
        {
          "output_type": "display_data",
          "data": {
            "text/html": [
              "0.120698112363124"
            ],
            "text/markdown": "0.120698112363124",
            "text/latex": "0.120698112363124",
            "text/plain": [
              "[1] 0.1206981"
            ]
          },
          "metadata": {}
        }
      ]
    },
    {
      "cell_type": "code",
      "source": [
        "alfa=0.05\n",
        "df=3-1\n",
        "qchisq(1-alfa,df)"
      ],
      "metadata": {
        "colab": {
          "base_uri": "https://localhost:8080/",
          "height": 34
        },
        "id": "Cgx8Qz50ayAT",
        "outputId": "e398c781-6bc9-4ace-e344-72bef3cb5d0f"
      },
      "execution_count": null,
      "outputs": [
        {
          "output_type": "display_data",
          "data": {
            "text/html": [
              "5.99146454710798"
            ],
            "text/markdown": "5.99146454710798",
            "text/latex": "5.99146454710798",
            "text/plain": [
              "[1] 5.991465"
            ]
          },
          "metadata": {}
        }
      ]
    },
    {
      "cell_type": "code",
      "source": [
        "chisq.test(m2[,1], p=m2[,2])"
      ],
      "metadata": {
        "colab": {
          "base_uri": "https://localhost:8080/",
          "height": 136
        },
        "id": "23I95rM1a3hv",
        "outputId": "28615c1a-31c0-4d5d-a2af-ce8ca1f3f604"
      },
      "execution_count": null,
      "outputs": [
        {
          "output_type": "stream",
          "name": "stderr",
          "text": [
            "Warning message in chisq.test(m2[, 1], p = m2[, 2]):\n",
            "“Chi-squared approximation may be incorrect”\n"
          ]
        },
        {
          "output_type": "display_data",
          "data": {
            "text/plain": [
              "\n",
              "\tChi-squared test for given probabilities\n",
              "\n",
              "data:  m2[, 1]\n",
              "X-squared = 0.1207, df = 2, p-value = 0.9414\n"
            ]
          },
          "metadata": {}
        }
      ]
    },
    {
      "cell_type": "markdown",
      "source": [
        "H0: Brak różnic biedzy subpopulacjami\n",
        "\n",
        "H1: Wystepują różnice miedzy subpopulacjami\n",
        "\n",
        "\n",
        "x^2 = 0.12 < 5.99 =x^2(0,05)\n",
        "\n",
        "p.value = 0.94 > 0.05\n",
        "\n",
        "Brak podstaw do odrzucenia hipotezy zerowej, nie ma różnic w występowaniu genotypów miedzy subpopulacjiami."
      ],
      "metadata": {
        "id": "d-4XpzsYa7dp"
      }
    },
    {
      "cell_type": "markdown",
      "source": [
        "\n",
        "Iloraz szans(Odss ratio)\n",
        "\n",
        "Dla wariantu VDR.Floki w grupie chorych na raka."
      ],
      "metadata": {
        "id": "xQxkYua_a_qt"
      }
    },
    {
      "cell_type": "code",
      "source": [
        "nA_VDR_case <- 92\n",
        "nG_VDR_case <- 94 + 90\n",
        "\n",
        "odds_ratio_VDR_case <- nA_VDR_case / nG_VDR_case\n",
        "cat(\"Odds Ratio dla wariantu VDR.Floki w grupie chorych na raka:\", odds_ratio_VDR_case, \"\\n\")"
      ],
      "metadata": {
        "colab": {
          "base_uri": "https://localhost:8080/"
        },
        "id": "llMR4qYIa3lD",
        "outputId": "de22e3d7-15a8-4f96-8d57-e667fd5d2017"
      },
      "execution_count": null,
      "outputs": [
        {
          "output_type": "stream",
          "name": "stdout",
          "text": [
            "Odds Ratio dla wariantu VDR.Floki w grupie chorych na raka: 0.5 \n"
          ]
        }
      ]
    },
    {
      "cell_type": "code",
      "source": [
        "nA_VDR_control <- 65\n",
        "nG_VDR_control <- 170 + 134\n",
        "\n",
        "odds_ratio_VDR_control <- nA_VDR_control / nG_VDR_control\n",
        "cat(\"Odds Ratio dla wariantu VDR.Floki w grupie kontrolnej:\", odds_ratio_VDR_control, \"\\n\")"
      ],
      "metadata": {
        "colab": {
          "base_uri": "https://localhost:8080/"
        },
        "id": "x8L_6mlDbEkF",
        "outputId": "a5c1f4b2-881d-432a-ec0d-d0d2f7408553"
      },
      "execution_count": null,
      "outputs": [
        {
          "output_type": "stream",
          "name": "stdout",
          "text": [
            "Odds Ratio dla wariantu VDR.Floki w grupie kontrolnej: 0.2138158 \n"
          ]
        }
      ]
    },
    {
      "cell_type": "code",
      "source": [
        "nC_BSM_case <- 96\n",
        "nT_BSM_case <- 71 + 69\n",
        "\n",
        "odds_ratio_BSM_case <- nC_BSM_case / nT_BSM_case\n",
        "cat(\"Odds Ratio dla wariantu BSM w grupie chorych na raka:\", odds_ratio_BSM_case, \"\\n\")"
      ],
      "metadata": {
        "colab": {
          "base_uri": "https://localhost:8080/"
        },
        "id": "iWrCC9Tya3qY",
        "outputId": "2bccf416-35da-46eb-eadc-eb324753c4f6"
      },
      "execution_count": null,
      "outputs": [
        {
          "output_type": "stream",
          "name": "stdout",
          "text": [
            "Odds Ratio dla wariantu BSM w grupie chorych na raka: 0.6857143 \n"
          ]
        }
      ]
    },
    {
      "cell_type": "code",
      "source": [
        "nC_BSM_control <- 106\n",
        "nT_BSM_control <- 71 + 85\n",
        "\n",
        "odds_ratio_BSM_control <- nC_BSM_control / nT_BSM_control\n",
        "cat(\"Odds Ratio dla wariantu BSM w grupie kontrolnej:\", odds_ratio_BSM_control, \"\\n\")"
      ],
      "metadata": {
        "colab": {
          "base_uri": "https://localhost:8080/"
        },
        "id": "tVyG7DGha3xD",
        "outputId": "3b9a7dfd-83e6-4773-b448-5a62742777eb"
      },
      "execution_count": null,
      "outputs": [
        {
          "output_type": "stream",
          "name": "stdout",
          "text": [
            "Odds Ratio dla wariantu BSM w grupie kontrolnej: 0.6794872 \n"
          ]
        }
      ]
    }
  ]
}